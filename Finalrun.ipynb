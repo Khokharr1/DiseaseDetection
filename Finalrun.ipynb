{
  "cells": [
    {
      "cell_type": "code",
      "source": [
        "class LogisticRegression:\n",
        "    def __init__(self, learning_rate=0.1, num_iterations=1000):\n",
        "        self.learning_rate = learning_rate\n",
        "        self.num_iterations = num_iterations\n",
        "        self.weights = None\n",
        "        self.bias = None\n",
        "\n",
        "    def sigmoid(self, z):\n",
        "        return 1 / (1 + np.exp(-z))\n",
        "\n",
        "    def fit(self, X, y):\n",
        "        num_samples, num_features = X.shape\n",
        "        # Initialize weights and bias\n",
        "        self.weights = np.zeros(num_features)\n",
        "        self.bias = 0\n",
        "\n",
        "        # Gradient descent\n",
        "        for _ in range(self.num_iterations):\n",
        "            linear_model = np.dot(X, self.weights) + self.bias\n",
        "            y_predicted = self.sigmoid(linear_model)\n",
        "\n",
        "            # Compute gradients\n",
        "            dw = (1 / num_samples) * np.dot(X.T, (y_predicted - y))\n",
        "            parkinson = (1 / num_samples) * np.sum(y_predicted - y)\n",
        "\n",
        "            # Update weights and bias\n",
        "            self.weights -= self.learning_rate * dw\n",
        "            self.bias -= self.learning_rate * parkinson\n",
        "\n",
        "    def predict(self, X):\n",
        "        linear_model = np.dot(X, self.weights) + self.bias\n",
        "        y_predicted = self.sigmoid(linear_model)\n",
        "        # Convert probabilities to binary output\n",
        "        y_predicted_class = [1 if i > 0.5 else 0 for i in y_predicted]\n",
        "        return np.array(y_predicted_class)"
      ],
      "metadata": {
        "id": "UVYjq64-XCA7"
      },
      "execution_count": null,
      "outputs": []
    },
    {
      "cell_type": "code",
      "execution_count": null,
      "metadata": {
        "id": "Z3q8cqEBApvr"
      },
      "outputs": [],
      "source": [
        "disease_columns = {\n",
        "    \"parkinsons\": [\n",
        "        \"MDVP:Fo(Hz)\", \"MDVP:Fhi(Hz)\", \"MDVP:Flo(Hz)\", \"MDVP:Jitter(%)\",\n",
        "        \"MDVP:Jitter(Abs)\", \"MDVP:RAP\", \"MDVP:PPQ\", \"Jitter:DDP\",\n",
        "        \"MDVP:Shimmer\", \"MDVP:Shimmer(dB)\", \"Shimmer:APQ3\",\n",
        "        \"Shimmer:APQ5\", \"MDVP:APQ\", \"Shimmer:DDA\", \"NHR\", \"HNR\",\n",
        "        \"RPDE\", \"DFA\", \"spread1\", \"spread2\", \"D2\", \"PPE\"\n",
        "    ],\n",
        "    \"diabetes\": [\n",
        "        \"Pregnancies\", \"Glucose\", \"BloodPressure\", \"SkinThickness\",\n",
        "        \"Insulin\", \"BMI\", \"DiabetesPedigreeFunction\", \"Age\"\n",
        "    ],\n",
        "    \"heart\": [\n",
        "        \"age\", \"sex\", \"cp\", \"trestbps\", \"chol\", \"fbs\",\n",
        "        \"restecg\", \"thalach\", \"exang\", \"oldpeak\", \"slope\",\n",
        "        \"ca\", \"thal\"\n",
        "    ]\n",
        "}\n"
      ]
    },
    {
      "cell_type": "code",
      "execution_count": null,
      "metadata": {
        "colab": {
          "base_uri": "https://localhost:8080/"
        },
        "id": "cEtRJDOxAvaC",
        "outputId": "5f7b99d3-7d29-44f1-c613-2905eb7298b4"
      },
      "outputs": [
        {
          "name": "stdout",
          "output_type": "stream",
          "text": [
            "Select a disease:\n",
            "1. Parkinsson\n",
            "2. Diabetes\n",
            "3. Heart\n",
            "Enter the number corresponding to your choice: 3\n",
            "Please provide the following details:\n",
            "age: 63\n",
            "sex: 1\n",
            "cp: 3\n",
            "trestbps: 145\n",
            "chol: 233\n",
            "fbs: 1\n",
            "restecg: 0\n",
            "thalach: 150\n",
            "exang: 0\n",
            "oldpeak: 2.3\n",
            "slope: 0\n"
          ]
        }
      ],
      "source": [
        "# Ask user to select the disease and model\n",
        "print(\"Select a disease:\")\n",
        "print(\"1. Parkinsson\")\n",
        "print(\"2. Diabetes\")\n",
        "print(\"3. Heart\")\n",
        "disease_choice = input(\"Enter the number corresponding to your choice: \")\n",
        "\n",
        "disease_map = {\"1\": \"parkinsons\", \"2\": \"diabetes\", \"3\": \"heart\"}\n",
        "selected_disease = disease_map[disease_choice]\n",
        "\n",
        "# Fetch relevant columns\n",
        "columns = disease_columns[selected_disease]\n",
        "inputs = {}\n",
        "\n",
        "print(\"Please provide the following details:\")\n",
        "for col in columns:\n",
        "    value = float(input(f\"{col}: \"))\n",
        "    inputs[col] = value\n"
      ]
    },
    {
      "cell_type": "code",
      "execution_count": null,
      "metadata": {
        "id": "0dlkxOsOAycf"
      },
      "outputs": [],
      "source": [
        "import pandas as pd\n",
        "import numpy as np\n",
        "\n",
        "# Convert to DataFrame\n",
        "input_data = pd.DataFrame([inputs])\n"
      ]
    },
    {
      "cell_type": "code",
      "execution_count": null,
      "metadata": {
        "id": "x6BjlQMjA169"
      },
      "outputs": [],
      "source": [
        "import pickle\n",
        "\n",
        "# Map disease and model to .pkl file\n",
        "model_map = {\n",
        "    (\"parkinsons\", \"lr\"): \"parkinson_lr.pkl\",\n",
        "    (\"parkinsons\", \"rf\"): \"parkinson_rf.pkl\",\n",
        "    (\"diabetes\", \"lr\"): \"db_lr.pkl\",\n",
        "    (\"diabetes\", \"rf\"): \"db_rf.pkl\",\n",
        "    (\"heart\", \"lr\"): \"Heart_lr.pkl\",\n",
        "    (\"heart\", \"rf\"): \"Heart_rf.pkl\"\n",
        "}\n",
        "\n",
        "# Ask user to select the model\n",
        "print(\"Select a model:\")\n",
        "print(\"1. Logistic Regression\")\n",
        "print(\"2. Random Forest\")\n",
        "model_choice = input(\"Enter the number corresponding to your choice: \")\n",
        "model_map_choice = {\"1\": \"lr\", \"2\": \"rf\"}\n",
        "selected_model = model_map_choice[model_choice]\n",
        "\n",
        "# Load the model\n",
        "model_path = model_map[(selected_disease, selected_model)]\n",
        "with open(model_path, 'rb') as file:\n",
        "  model = pickle.load(file)\n",
        "\n",
        "# Predict\n",
        "prediction = model.predict(input_data)\n",
        "if prediction[0] == 1:\n",
        "    print(f\"The prediction is: YES, {selected_disease.capitalize()} detected.\")\n",
        "else:\n",
        "    print(f\"The prediction is: NO, {selected_disease.capitalize()} not detected.\")\n"
      ]
    }
  ],
  "metadata": {
    "colab": {
      "provenance": []
    },
    "kernelspec": {
      "display_name": "Python 3",
      "name": "python3"
    },
    "language_info": {
      "name": "python"
    }
  },
  "nbformat": 4,
  "nbformat_minor": 0
}